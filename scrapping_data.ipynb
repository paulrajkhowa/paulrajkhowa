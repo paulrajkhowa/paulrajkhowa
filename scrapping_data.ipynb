{
  "nbformat": 4,
  "nbformat_minor": 0,
  "metadata": {
    "colab": {
      "name": "scrapping_data.ipynb",
      "provenance": [],
      "authorship_tag": "ABX9TyMqcJFU5930Jg9VHpJqc+JS",
      "include_colab_link": true
    },
    "kernelspec": {
      "name": "python3",
      "display_name": "Python 3"
    },
    "language_info": {
      "name": "python"
    }
  },
  "cells": [
    {
      "cell_type": "markdown",
      "metadata": {
        "id": "view-in-github",
        "colab_type": "text"
      },
      "source": [
        "<a href=\"https://colab.research.google.com/github/paulrajkhowa/paulrajkhowa/blob/main/scrapping_data.ipynb\" target=\"_parent\"><img src=\"https://colab.research.google.com/assets/colab-badge.svg\" alt=\"Open In Colab\"/></a>"
      ]
    },
    {
      "cell_type": "code",
      "metadata": {
        "id": "mcfVpISnou2E"
      },
      "source": [
        "from bs4 import BeautifulSoup\n",
        "import requests"
      ],
      "execution_count": 1,
      "outputs": []
    },
    {
      "cell_type": "code",
      "metadata": {
        "colab": {
          "base_uri": "https://localhost:8080/"
        },
        "id": "xOYb1NgxpQcZ",
        "outputId": "f7671354-7f86-4501-afa7-09cae1f53e99"
      },
      "source": [
        "url =\"http://finlandlabs.com/demo.html\"\n",
        "code = requests.get(url)\n",
        "code"
      ],
      "execution_count": 5,
      "outputs": [
        {
          "output_type": "execute_result",
          "data": {
            "text/plain": [
              "<Response [200]>"
            ]
          },
          "metadata": {},
          "execution_count": 5
        }
      ]
    },
    {
      "cell_type": "code",
      "metadata": {
        "colab": {
          "base_uri": "https://localhost:8080/"
        },
        "id": "Zn4zzEzHpms4",
        "outputId": "0aba2bda-d466-4ce2-e523-e43af791a4d1"
      },
      "source": [
        "code.content"
      ],
      "execution_count": 7,
      "outputs": [
        {
          "output_type": "execute_result",
          "data": {
            "text/plain": [
              "b'<html>\\r\\n<head>\\r\\n<title>A simple page</title>\\r\\n</head>\\r\\n<body>\\r\\n<div>\\r\\n<p class=\"inner-text first-item\" id=\"first\">\\r\\nFirst paragraph.\\r\\n</p>\\r\\n<p class=\"inner-text\">\\r\\nSecond paragraph.\\r\\n</p>\\r\\n</div>\\r\\n<p class=\"outer-text first-item\" id=\"second\">\\r\\n<b>\\r\\nFirst outer paragraph.\\r\\n</b>\\r\\n</p>\\r\\n<p class=\"outer-text\">\\r\\n<b>\\r\\nSecond outer paragraph.\\r\\n</b>\\r\\n</p>\\r\\n<a href = \\'http://www.google.com\\' id=\\'link1\\'>Google</a>\\r\\n<a href = \\'http://www.facebook.com\\' id=\\'link2\\'>Facebook</a>\\r\\n<a href = \\'http://www.instagram.com\\' id=\\'link3\\'>Instagram</a>\\r\\n</body>\\r\\n</html>'"
            ]
          },
          "metadata": {},
          "execution_count": 7
        }
      ]
    },
    {
      "cell_type": "code",
      "metadata": {
        "colab": {
          "base_uri": "https://localhost:8080/"
        },
        "id": "HFHe_AeTp0To",
        "outputId": "f8c67772-4d5e-4b91-9f39-6d0d55e8bcde"
      },
      "source": [
        "soup = BeautifulSoup(code.content,'html.parser')\n",
        "print(soup)"
      ],
      "execution_count": 8,
      "outputs": [
        {
          "output_type": "stream",
          "text": [
            "<html>\n",
            "<head>\n",
            "<title>A simple page</title>\n",
            "</head>\n",
            "<body>\n",
            "<div>\n",
            "<p class=\"inner-text first-item\" id=\"first\">\r\n",
            "First paragraph.\r\n",
            "</p>\n",
            "<p class=\"inner-text\">\r\n",
            "Second paragraph.\r\n",
            "</p>\n",
            "</div>\n",
            "<p class=\"outer-text first-item\" id=\"second\">\n",
            "<b>\r\n",
            "First outer paragraph.\r\n",
            "</b>\n",
            "</p>\n",
            "<p class=\"outer-text\">\n",
            "<b>\r\n",
            "Second outer paragraph.\r\n",
            "</b>\n",
            "</p>\n",
            "<a href=\"http://www.google.com\" id=\"link1\">Google</a>\n",
            "<a href=\"http://www.facebook.com\" id=\"link2\">Facebook</a>\n",
            "<a href=\"http://www.instagram.com\" id=\"link3\">Instagram</a>\n",
            "</body>\n",
            "</html>\n"
          ],
          "name": "stdout"
        }
      ]
    },
    {
      "cell_type": "code",
      "metadata": {
        "colab": {
          "base_uri": "https://localhost:8080/"
        },
        "id": "UAZQlozlqhJY",
        "outputId": "df05807f-076c-42c7-a041-bfe79a5b00f5"
      },
      "source": [
        "### Search data by tagname\n",
        "data = soup.select(\"p\")\n",
        "data"
      ],
      "execution_count": 9,
      "outputs": [
        {
          "output_type": "execute_result",
          "data": {
            "text/plain": [
              "[<p class=\"inner-text first-item\" id=\"first\">\n",
              " First paragraph.\n",
              " </p>, <p class=\"inner-text\">\n",
              " Second paragraph.\n",
              " </p>, <p class=\"outer-text first-item\" id=\"second\">\n",
              " <b>\n",
              " First outer paragraph.\n",
              " </b>\n",
              " </p>, <p class=\"outer-text\">\n",
              " <b>\n",
              " Second outer paragraph.\n",
              " </b>\n",
              " </p>]"
            ]
          },
          "metadata": {},
          "execution_count": 9
        }
      ]
    },
    {
      "cell_type": "code",
      "metadata": {
        "colab": {
          "base_uri": "https://localhost:8080/"
        },
        "id": "aOMbxK41rtxJ",
        "outputId": "37f8f593-cf63-4b57-d6f7-68e1a6aeb256"
      },
      "source": [
        "len(data)"
      ],
      "execution_count": 10,
      "outputs": [
        {
          "output_type": "execute_result",
          "data": {
            "text/plain": [
              "4"
            ]
          },
          "metadata": {},
          "execution_count": 10
        }
      ]
    },
    {
      "cell_type": "code",
      "metadata": {
        "colab": {
          "base_uri": "https://localhost:8080/"
        },
        "id": "HHh06W-3rwaw",
        "outputId": "337fcb26-00e4-42db-b548-10697a3da3d0"
      },
      "source": [
        "data = soup.select(\"a\")\n",
        "data"
      ],
      "execution_count": 11,
      "outputs": [
        {
          "output_type": "execute_result",
          "data": {
            "text/plain": [
              "[<a href=\"http://www.google.com\" id=\"link1\">Google</a>,\n",
              " <a href=\"http://www.facebook.com\" id=\"link2\">Facebook</a>,\n",
              " <a href=\"http://www.instagram.com\" id=\"link3\">Instagram</a>]"
            ]
          },
          "metadata": {},
          "execution_count": 11
        }
      ]
    },
    {
      "cell_type": "code",
      "metadata": {
        "colab": {
          "base_uri": "https://localhost:8080/"
        },
        "id": "S_84pXE0r-BY",
        "outputId": "93e41da5-0dcb-44ab-ab37-0ca6607720b7"
      },
      "source": [
        "data = soup.select(\"title\")\n",
        "data"
      ],
      "execution_count": 12,
      "outputs": [
        {
          "output_type": "execute_result",
          "data": {
            "text/plain": [
              "[<title>A simple page</title>]"
            ]
          },
          "metadata": {},
          "execution_count": 12
        }
      ]
    },
    {
      "cell_type": "code",
      "metadata": {
        "colab": {
          "base_uri": "https://localhost:8080/"
        },
        "id": "yZPcl-t0sAhQ",
        "outputId": "04587405-5bbe-4035-d8b8-61cb6395c592"
      },
      "source": [
        "### Search Data by Id\n",
        "data = soup.select(\"p#first\")   ## #-id\n",
        "data"
      ],
      "execution_count": 13,
      "outputs": [
        {
          "output_type": "execute_result",
          "data": {
            "text/plain": [
              "[<p class=\"inner-text first-item\" id=\"first\">\n",
              " First paragraph.\n",
              " </p>]"
            ]
          },
          "metadata": {},
          "execution_count": 13
        }
      ]
    },
    {
      "cell_type": "code",
      "metadata": {
        "colab": {
          "base_uri": "https://localhost:8080/"
        },
        "id": "PGe7hOyQtElB",
        "outputId": "958c80b4-89fd-4bef-9382-5ddbe3881749"
      },
      "source": [
        "data = soup.select(\"#link1\")   ## #-id\n",
        "data"
      ],
      "execution_count": 14,
      "outputs": [
        {
          "output_type": "execute_result",
          "data": {
            "text/plain": [
              "[<a href=\"http://www.google.com\" id=\"link1\">Google</a>]"
            ]
          },
          "metadata": {},
          "execution_count": 14
        }
      ]
    },
    {
      "cell_type": "code",
      "metadata": {
        "colab": {
          "base_uri": "https://localhost:8080/"
        },
        "id": "Hl9oGfFstiBp",
        "outputId": "65d87613-ff5e-463a-cf3c-02ead527c948"
      },
      "source": [
        "### Search data by class\n",
        "data = soup.select(\"p.inner-text\")\n",
        "data"
      ],
      "execution_count": 15,
      "outputs": [
        {
          "output_type": "execute_result",
          "data": {
            "text/plain": [
              "[<p class=\"inner-text first-item\" id=\"first\">\n",
              " First paragraph.\n",
              " </p>, <p class=\"inner-text\">\n",
              " Second paragraph.\n",
              " </p>]"
            ]
          },
          "metadata": {},
          "execution_count": 15
        }
      ]
    },
    {
      "cell_type": "code",
      "metadata": {
        "colab": {
          "base_uri": "https://localhost:8080/"
        },
        "id": "KpfHaN-2t_Gp",
        "outputId": "2af208e3-991f-4f44-91a2-f7297251a69c"
      },
      "source": [
        "data = soup.select(\"p.inner-text.first-item\")\n",
        "data"
      ],
      "execution_count": 16,
      "outputs": [
        {
          "output_type": "execute_result",
          "data": {
            "text/plain": [
              "[<p class=\"inner-text first-item\" id=\"first\">\n",
              " First paragraph.\n",
              " </p>]"
            ]
          },
          "metadata": {},
          "execution_count": 16
        }
      ]
    },
    {
      "cell_type": "code",
      "metadata": {
        "colab": {
          "base_uri": "https://localhost:8080/"
        },
        "id": "Q4IHODTWub5p",
        "outputId": "e151dd63-31ac-46e6-e2a9-7275b0f17a8a"
      },
      "source": [
        "### Searching for nested tags\n",
        "data = soup.select('p.outer-text')\n",
        "data"
      ],
      "execution_count": 17,
      "outputs": [
        {
          "output_type": "execute_result",
          "data": {
            "text/plain": [
              "[<p class=\"outer-text first-item\" id=\"second\">\n",
              " <b>\n",
              " First outer paragraph.\n",
              " </b>\n",
              " </p>, <p class=\"outer-text\">\n",
              " <b>\n",
              " Second outer paragraph.\n",
              " </b>\n",
              " </p>]"
            ]
          },
          "metadata": {},
          "execution_count": 17
        }
      ]
    },
    {
      "cell_type": "code",
      "metadata": {
        "colab": {
          "base_uri": "https://localhost:8080/"
        },
        "id": "r4GSsxTtvpnB",
        "outputId": "e0d165e1-2573-418b-d1b5-677323a9af57"
      },
      "source": [
        "### Searching for nested tags\n",
        "data = soup.select('p.outer-text b')\n",
        "data"
      ],
      "execution_count": 18,
      "outputs": [
        {
          "output_type": "execute_result",
          "data": {
            "text/plain": [
              "[<b>\n",
              " First outer paragraph.\n",
              " </b>, <b>\n",
              " Second outer paragraph.\n",
              " </b>]"
            ]
          },
          "metadata": {},
          "execution_count": 18
        }
      ]
    },
    {
      "cell_type": "code",
      "metadata": {
        "colab": {
          "base_uri": "https://localhost:8080/"
        },
        "id": "XjynnDFbv9E5",
        "outputId": "5d5e73b6-3ba7-4f8f-dcab-57dc0806fc2a"
      },
      "source": [
        "data = soup.select('html')\n",
        "data"
      ],
      "execution_count": 19,
      "outputs": [
        {
          "output_type": "execute_result",
          "data": {
            "text/plain": [
              "[<html>\n",
              " <head>\n",
              " <title>A simple page</title>\n",
              " </head>\n",
              " <body>\n",
              " <div>\n",
              " <p class=\"inner-text first-item\" id=\"first\">\n",
              " First paragraph.\n",
              " </p>\n",
              " <p class=\"inner-text\">\n",
              " Second paragraph.\n",
              " </p>\n",
              " </div>\n",
              " <p class=\"outer-text first-item\" id=\"second\">\n",
              " <b>\n",
              " First outer paragraph.\n",
              " </b>\n",
              " </p>\n",
              " <p class=\"outer-text\">\n",
              " <b>\n",
              " Second outer paragraph.\n",
              " </b>\n",
              " </p>\n",
              " <a href=\"http://www.google.com\" id=\"link1\">Google</a>\n",
              " <a href=\"http://www.facebook.com\" id=\"link2\">Facebook</a>\n",
              " <a href=\"http://www.instagram.com\" id=\"link3\">Instagram</a>\n",
              " </body>\n",
              " </html>]"
            ]
          },
          "metadata": {},
          "execution_count": 19
        }
      ]
    },
    {
      "cell_type": "code",
      "metadata": {
        "colab": {
          "base_uri": "https://localhost:8080/"
        },
        "id": "oXwEk10dwAup",
        "outputId": "9d844094-c07d-42ea-8ab8-de019144ed06"
      },
      "source": [
        "data = soup.select('html body div p#first')\n",
        "data"
      ],
      "execution_count": 20,
      "outputs": [
        {
          "output_type": "execute_result",
          "data": {
            "text/plain": [
              "[<p class=\"inner-text first-item\" id=\"first\">\n",
              " First paragraph.\n",
              " </p>]"
            ]
          },
          "metadata": {},
          "execution_count": 20
        }
      ]
    },
    {
      "cell_type": "code",
      "metadata": {
        "colab": {
          "base_uri": "https://localhost:8080/"
        },
        "id": "popLR7UowIoq",
        "outputId": "2a21e975-690a-414d-9d79-f6450253cf52"
      },
      "source": [
        "### Extract the text from the tag\n",
        "data = soup.select('a')\n",
        "data"
      ],
      "execution_count": 22,
      "outputs": [
        {
          "output_type": "execute_result",
          "data": {
            "text/plain": [
              "[<a href=\"http://www.google.com\" id=\"link1\">Google</a>,\n",
              " <a href=\"http://www.facebook.com\" id=\"link2\">Facebook</a>,\n",
              " <a href=\"http://www.instagram.com\" id=\"link3\">Instagram</a>]"
            ]
          },
          "metadata": {},
          "execution_count": 22
        }
      ]
    },
    {
      "cell_type": "code",
      "metadata": {
        "colab": {
          "base_uri": "https://localhost:8080/",
          "height": 35
        },
        "id": "PcNXMFztxEyx",
        "outputId": "20bf16d4-a944-4f68-80fe-469b478b3836"
      },
      "source": [
        "data[1].get_text()"
      ],
      "execution_count": 23,
      "outputs": [
        {
          "output_type": "execute_result",
          "data": {
            "application/vnd.google.colaboratory.intrinsic+json": {
              "type": "string"
            },
            "text/plain": [
              "'Facebook'"
            ]
          },
          "metadata": {},
          "execution_count": 23
        }
      ]
    },
    {
      "cell_type": "code",
      "metadata": {
        "colab": {
          "base_uri": "https://localhost:8080/",
          "height": 35
        },
        "id": "yTZgpuqHxOXB",
        "outputId": "88a1e91a-6fd1-4f73-e69a-a0b118961742"
      },
      "source": [
        "data[1].get('id')"
      ],
      "execution_count": 24,
      "outputs": [
        {
          "output_type": "execute_result",
          "data": {
            "application/vnd.google.colaboratory.intrinsic+json": {
              "type": "string"
            },
            "text/plain": [
              "'link2'"
            ]
          },
          "metadata": {},
          "execution_count": 24
        }
      ]
    },
    {
      "cell_type": "code",
      "metadata": {
        "colab": {
          "base_uri": "https://localhost:8080/",
          "height": 35
        },
        "id": "OHl_0kvExcSB",
        "outputId": "e78e602e-2980-47b0-e567-5967af834364"
      },
      "source": [
        "data[1].get('href')"
      ],
      "execution_count": 25,
      "outputs": [
        {
          "output_type": "execute_result",
          "data": {
            "application/vnd.google.colaboratory.intrinsic+json": {
              "type": "string"
            },
            "text/plain": [
              "'http://www.facebook.com'"
            ]
          },
          "metadata": {},
          "execution_count": 25
        }
      ]
    },
    {
      "cell_type": "code",
      "metadata": {
        "id": "sbNBx7uuxemh"
      },
      "source": [
        ""
      ],
      "execution_count": null,
      "outputs": []
    }
  ]
}